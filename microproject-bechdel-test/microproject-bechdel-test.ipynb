{
 "cells": [
  {
   "attachments": {},
   "cell_type": "markdown",
   "metadata": {},
   "source": [
    "<h1 style=\"text-align: center\">\n",
    "<div style=\"color: #DD3403; font-size: 60%\">Data Science DISCOVERY MicroProject</div>\n",
    "<span style=\"\">MicroProject: Bechdel Test</span>\n",
    "<div style=\"font-size: 60%;\"><a href=\"https://discovery.cs.illinois.edu/microproject/bechdel-test/\">https://discovery.cs.illinois.edu/microproject/bechdel-test/</a></div>\n",
    "</h1>\n",
    "\n",
    "<hr style=\"color: #DD3403;\">"
   ]
  },
  {
   "attachments": {},
   "cell_type": "markdown",
   "metadata": {},
   "source": [
    "## Data Source: Bechdel Test\n",
    "\n",
    "The Bechdel Test, or Bechdel-Wallace Test, is a simple way of measuring the representation of women in a film or other work of fiction.  To pass the The Bechdel Test, a work must pass all three criteria:\n",
    "\n",
    "1. The work must have at least two women in it,\n",
    "\n",
    "2. who talk to each other,\n",
    "\n",
    "3. about something other than a man.\n",
    "\n",
    "The test was popularized by Alison Bechdel's comic, in a 1985 strip called \"The Rule\".  The website [BechdelTest.com](BechdelTest.com) provides a searchable database of films and their Bechdel Test results, allowing users to explore and analyze patterns in gender representation in cinema.\n"
   ]
  },
  {
   "attachments": {},
   "cell_type": "markdown",
   "metadata": {},
   "source": [
    "### Importing the Bechdel Test Dataset\n",
    "\n",
    "The [BechdelTest.com](BechdelTest.com) public API provides a easy-to-access data source that contains the Bechdel Test scores for thousands of movies.  Through reading the technical API documentation at [https://bechdeltest.com/api/v1/doc](https://bechdeltest.com/api/v1/doc), you can find that:\n",
    "\n",
    "- The Bechdel Test API uses the JSON format, which can be read into a DataFrame using `pd.read_json(...)`,\n",
    "\n",
    "- The URL endpoint for the list of all movies is `https://bechdeltest.com/api/v1/getAllMovies`.\n",
    "\n",
    "Using `pd.read_json`, create a DataFrame `df_bechdel` to store all the movies and their Bechdel Test scores:"
   ]
  },
  {
   "cell_type": "code",
   "execution_count": 1,
   "metadata": {},
   "outputs": [
    {
     "data": {
      "text/html": [
       "<div>\n",
       "<style scoped>\n",
       "    .dataframe tbody tr th:only-of-type {\n",
       "        vertical-align: middle;\n",
       "    }\n",
       "\n",
       "    .dataframe tbody tr th {\n",
       "        vertical-align: top;\n",
       "    }\n",
       "\n",
       "    .dataframe thead th {\n",
       "        text-align: right;\n",
       "    }\n",
       "</style>\n",
       "<table border=\"1\" class=\"dataframe\">\n",
       "  <thead>\n",
       "    <tr style=\"text-align: right;\">\n",
       "      <th></th>\n",
       "      <th>year</th>\n",
       "      <th>title</th>\n",
       "      <th>imdbid</th>\n",
       "      <th>rating</th>\n",
       "      <th>id</th>\n",
       "    </tr>\n",
       "  </thead>\n",
       "  <tbody>\n",
       "    <tr>\n",
       "      <th>0</th>\n",
       "      <td>1874</td>\n",
       "      <td>Passage de Venus</td>\n",
       "      <td>3155794</td>\n",
       "      <td>0</td>\n",
       "      <td>9602</td>\n",
       "    </tr>\n",
       "    <tr>\n",
       "      <th>1</th>\n",
       "      <td>1877</td>\n",
       "      <td>La Rosace Magique</td>\n",
       "      <td>14495706</td>\n",
       "      <td>0</td>\n",
       "      <td>9804</td>\n",
       "    </tr>\n",
       "    <tr>\n",
       "      <th>2</th>\n",
       "      <td>1878</td>\n",
       "      <td>Sallie Gardner at a Gallop</td>\n",
       "      <td>2221420</td>\n",
       "      <td>0</td>\n",
       "      <td>9603</td>\n",
       "    </tr>\n",
       "    <tr>\n",
       "      <th>3</th>\n",
       "      <td>1878</td>\n",
       "      <td>Le singe musicien</td>\n",
       "      <td>12592084</td>\n",
       "      <td>0</td>\n",
       "      <td>9806</td>\n",
       "    </tr>\n",
       "    <tr>\n",
       "      <th>4</th>\n",
       "      <td>1881</td>\n",
       "      <td>Athlete Swinging a Pick</td>\n",
       "      <td>7816420</td>\n",
       "      <td>0</td>\n",
       "      <td>9816</td>\n",
       "    </tr>\n",
       "    <tr>\n",
       "      <th>...</th>\n",
       "      <td>...</td>\n",
       "      <td>...</td>\n",
       "      <td>...</td>\n",
       "      <td>...</td>\n",
       "      <td>...</td>\n",
       "    </tr>\n",
       "    <tr>\n",
       "      <th>9901</th>\n",
       "      <td>2023</td>\n",
       "      <td>Reflect</td>\n",
       "      <td>14966324</td>\n",
       "      <td>3</td>\n",
       "      <td>10751</td>\n",
       "    </tr>\n",
       "    <tr>\n",
       "      <th>9902</th>\n",
       "      <td>2023</td>\n",
       "      <td>Ant-Man and the Wasp: Quantumania</td>\n",
       "      <td>10954600</td>\n",
       "      <td>3</td>\n",
       "      <td>10756</td>\n",
       "    </tr>\n",
       "    <tr>\n",
       "      <th>9903</th>\n",
       "      <td>2023</td>\n",
       "      <td>Pathaan</td>\n",
       "      <td>12844910</td>\n",
       "      <td>3</td>\n",
       "      <td>10728</td>\n",
       "    </tr>\n",
       "    <tr>\n",
       "      <th>9904</th>\n",
       "      <td>2023</td>\n",
       "      <td>Missing</td>\n",
       "      <td>10855768</td>\n",
       "      <td>3</td>\n",
       "      <td>10754</td>\n",
       "    </tr>\n",
       "    <tr>\n",
       "      <th>9905</th>\n",
       "      <td>2023</td>\n",
       "      <td>Infinity Pool</td>\n",
       "      <td>10365998</td>\n",
       "      <td>2</td>\n",
       "      <td>10737</td>\n",
       "    </tr>\n",
       "  </tbody>\n",
       "</table>\n",
       "<p>9906 rows × 5 columns</p>\n",
       "</div>"
      ],
      "text/plain": [
       "      year                              title    imdbid  rating     id\n",
       "0     1874                   Passage de Venus   3155794       0   9602\n",
       "1     1877                  La Rosace Magique  14495706       0   9804\n",
       "2     1878         Sallie Gardner at a Gallop   2221420       0   9603\n",
       "3     1878                  Le singe musicien  12592084       0   9806\n",
       "4     1881            Athlete Swinging a Pick   7816420       0   9816\n",
       "...    ...                                ...       ...     ...    ...\n",
       "9901  2023                            Reflect  14966324       3  10751\n",
       "9902  2023  Ant-Man and the Wasp: Quantumania  10954600       3  10756\n",
       "9903  2023                            Pathaan  12844910       3  10728\n",
       "9904  2023                            Missing  10855768       3  10754\n",
       "9905  2023                      Infinity Pool  10365998       2  10737\n",
       "\n",
       "[9906 rows x 5 columns]"
      ]
     },
     "execution_count": 1,
     "metadata": {},
     "output_type": "execute_result"
    }
   ],
   "source": [
    "import pandas as pd\n",
    "df_bechdel = pd.read_json(\"https://bechdeltest.com/api/v1/getAllMovies\")\n",
    "df_bechdel"
   ]
  },
  {
   "attachments": {},
   "cell_type": "markdown",
   "metadata": {},
   "source": [
    "<hr style=\"color: #DD3403;\">"
   ]
  },
  {
   "attachments": {},
   "cell_type": "markdown",
   "metadata": {},
   "source": [
    "## Part 1: Creating a Pivot Table for Analysis\n",
    "\n",
    "With over 9,000 movies that were released over 100 years, creating a summary of our data may be helpful for analysis!\n",
    "\n",
    "When summarizing data, `groupby` is commonly used to aggregate all data that has an identical value in one or more columns.  For example, to count how many movies have a Bechdel Test score in our dataset each year, we could use:\n",
    "\n",
    "```\n",
    "df_bechdel.groupby(\"year\").agg(\"count\")\n",
    "```\n",
    "\n",
    "Try that below:"
   ]
  },
  {
   "cell_type": "code",
   "execution_count": 2,
   "metadata": {},
   "outputs": [
    {
     "data": {
      "text/html": [
       "<div>\n",
       "<style scoped>\n",
       "    .dataframe tbody tr th:only-of-type {\n",
       "        vertical-align: middle;\n",
       "    }\n",
       "\n",
       "    .dataframe tbody tr th {\n",
       "        vertical-align: top;\n",
       "    }\n",
       "\n",
       "    .dataframe thead th {\n",
       "        text-align: right;\n",
       "    }\n",
       "</style>\n",
       "<table border=\"1\" class=\"dataframe\">\n",
       "  <thead>\n",
       "    <tr style=\"text-align: right;\">\n",
       "      <th></th>\n",
       "      <th>title</th>\n",
       "      <th>imdbid</th>\n",
       "      <th>rating</th>\n",
       "      <th>id</th>\n",
       "    </tr>\n",
       "    <tr>\n",
       "      <th>year</th>\n",
       "      <th></th>\n",
       "      <th></th>\n",
       "      <th></th>\n",
       "      <th></th>\n",
       "    </tr>\n",
       "  </thead>\n",
       "  <tbody>\n",
       "    <tr>\n",
       "      <th>1874</th>\n",
       "      <td>1</td>\n",
       "      <td>1</td>\n",
       "      <td>1</td>\n",
       "      <td>1</td>\n",
       "    </tr>\n",
       "    <tr>\n",
       "      <th>1877</th>\n",
       "      <td>1</td>\n",
       "      <td>1</td>\n",
       "      <td>1</td>\n",
       "      <td>1</td>\n",
       "    </tr>\n",
       "    <tr>\n",
       "      <th>1878</th>\n",
       "      <td>2</td>\n",
       "      <td>2</td>\n",
       "      <td>2</td>\n",
       "      <td>2</td>\n",
       "    </tr>\n",
       "    <tr>\n",
       "      <th>1881</th>\n",
       "      <td>1</td>\n",
       "      <td>1</td>\n",
       "      <td>1</td>\n",
       "      <td>1</td>\n",
       "    </tr>\n",
       "    <tr>\n",
       "      <th>1883</th>\n",
       "      <td>1</td>\n",
       "      <td>1</td>\n",
       "      <td>1</td>\n",
       "      <td>1</td>\n",
       "    </tr>\n",
       "    <tr>\n",
       "      <th>...</th>\n",
       "      <td>...</td>\n",
       "      <td>...</td>\n",
       "      <td>...</td>\n",
       "      <td>...</td>\n",
       "    </tr>\n",
       "    <tr>\n",
       "      <th>2019</th>\n",
       "      <td>265</td>\n",
       "      <td>265</td>\n",
       "      <td>265</td>\n",
       "      <td>265</td>\n",
       "    </tr>\n",
       "    <tr>\n",
       "      <th>2020</th>\n",
       "      <td>156</td>\n",
       "      <td>156</td>\n",
       "      <td>156</td>\n",
       "      <td>156</td>\n",
       "    </tr>\n",
       "    <tr>\n",
       "      <th>2021</th>\n",
       "      <td>170</td>\n",
       "      <td>170</td>\n",
       "      <td>170</td>\n",
       "      <td>170</td>\n",
       "    </tr>\n",
       "    <tr>\n",
       "      <th>2022</th>\n",
       "      <td>153</td>\n",
       "      <td>153</td>\n",
       "      <td>153</td>\n",
       "      <td>153</td>\n",
       "    </tr>\n",
       "    <tr>\n",
       "      <th>2023</th>\n",
       "      <td>5</td>\n",
       "      <td>5</td>\n",
       "      <td>5</td>\n",
       "      <td>5</td>\n",
       "    </tr>\n",
       "  </tbody>\n",
       "</table>\n",
       "<p>142 rows × 4 columns</p>\n",
       "</div>"
      ],
      "text/plain": [
       "      title  imdbid  rating   id\n",
       "year                            \n",
       "1874      1       1       1    1\n",
       "1877      1       1       1    1\n",
       "1878      2       2       2    2\n",
       "1881      1       1       1    1\n",
       "1883      1       1       1    1\n",
       "...     ...     ...     ...  ...\n",
       "2019    265     265     265  265\n",
       "2020    156     156     156  156\n",
       "2021    170     170     170  170\n",
       "2022    153     153     153  153\n",
       "2023      5       5       5    5\n",
       "\n",
       "[142 rows x 4 columns]"
      ]
     },
     "execution_count": 2,
     "metadata": {},
     "output_type": "execute_result"
    }
   ],
   "source": [
    "df_bechdel.groupby(\"year\").agg(\"count\")"
   ]
  },
  {
   "attachments": {},
   "cell_type": "markdown",
   "metadata": {},
   "source": [
    "## Step 1.1: Specify the `index`:\n",
    "\n",
    "When we want to summarize data by **two or more** categories, the `pivot_table` function of a DataFrame can be useful.  The `pivot_table` function requires us to specify:\n",
    "\n",
    "- The `index` requires us to specify the data we want the values of our **rows** to be.  For example, if we want our rows to be each year in our dataset we would specify `index=\"year\"`.\n",
    "\n",
    "\n",
    "Try creating a pivot table where we only specify the `index` value by trying the following different lines:\n",
    "\n",
    "1. First try creating a DataFrame where each row is a \"rating\": `df_bechdel.pivot_table(index=\"rating\")`\n",
    "\n",
    "2. Next try creating a DataFrame where each row is a \"year\": `df_bechdel.pivot_table(index=\"year\")`"
   ]
  },
  {
   "cell_type": "code",
   "execution_count": 7,
   "metadata": {},
   "outputs": [
    {
     "data": {
      "text/html": [
       "<div>\n",
       "<style scoped>\n",
       "    .dataframe tbody tr th:only-of-type {\n",
       "        vertical-align: middle;\n",
       "    }\n",
       "\n",
       "    .dataframe tbody tr th {\n",
       "        vertical-align: top;\n",
       "    }\n",
       "\n",
       "    .dataframe thead th {\n",
       "        text-align: right;\n",
       "    }\n",
       "</style>\n",
       "<table border=\"1\" class=\"dataframe\">\n",
       "  <thead>\n",
       "    <tr style=\"text-align: right;\">\n",
       "      <th></th>\n",
       "      <th>id</th>\n",
       "      <th>rating</th>\n",
       "    </tr>\n",
       "    <tr>\n",
       "      <th>year</th>\n",
       "      <th></th>\n",
       "      <th></th>\n",
       "    </tr>\n",
       "  </thead>\n",
       "  <tbody>\n",
       "    <tr>\n",
       "      <th>1874</th>\n",
       "      <td>9602.000000</td>\n",
       "      <td>0.000000</td>\n",
       "    </tr>\n",
       "    <tr>\n",
       "      <th>1877</th>\n",
       "      <td>9804.000000</td>\n",
       "      <td>0.000000</td>\n",
       "    </tr>\n",
       "    <tr>\n",
       "      <th>1878</th>\n",
       "      <td>9704.500000</td>\n",
       "      <td>0.000000</td>\n",
       "    </tr>\n",
       "    <tr>\n",
       "      <th>1881</th>\n",
       "      <td>9816.000000</td>\n",
       "      <td>0.000000</td>\n",
       "    </tr>\n",
       "    <tr>\n",
       "      <th>1883</th>\n",
       "      <td>9831.000000</td>\n",
       "      <td>0.000000</td>\n",
       "    </tr>\n",
       "    <tr>\n",
       "      <th>...</th>\n",
       "      <td>...</td>\n",
       "      <td>...</td>\n",
       "    </tr>\n",
       "    <tr>\n",
       "      <th>2019</th>\n",
       "      <td>9172.437736</td>\n",
       "      <td>2.377358</td>\n",
       "    </tr>\n",
       "    <tr>\n",
       "      <th>2020</th>\n",
       "      <td>9568.147436</td>\n",
       "      <td>2.480769</td>\n",
       "    </tr>\n",
       "    <tr>\n",
       "      <th>2021</th>\n",
       "      <td>10114.588235</td>\n",
       "      <td>2.352941</td>\n",
       "    </tr>\n",
       "    <tr>\n",
       "      <th>2022</th>\n",
       "      <td>10498.751634</td>\n",
       "      <td>2.457516</td>\n",
       "    </tr>\n",
       "    <tr>\n",
       "      <th>2023</th>\n",
       "      <td>10745.200000</td>\n",
       "      <td>2.800000</td>\n",
       "    </tr>\n",
       "  </tbody>\n",
       "</table>\n",
       "<p>142 rows × 2 columns</p>\n",
       "</div>"
      ],
      "text/plain": [
       "                id    rating\n",
       "year                        \n",
       "1874   9602.000000  0.000000\n",
       "1877   9804.000000  0.000000\n",
       "1878   9704.500000  0.000000\n",
       "1881   9816.000000  0.000000\n",
       "1883   9831.000000  0.000000\n",
       "...            ...       ...\n",
       "2019   9172.437736  2.377358\n",
       "2020   9568.147436  2.480769\n",
       "2021  10114.588235  2.352941\n",
       "2022  10498.751634  2.457516\n",
       "2023  10745.200000  2.800000\n",
       "\n",
       "[142 rows x 2 columns]"
      ]
     },
     "execution_count": 7,
     "metadata": {},
     "output_type": "execute_result"
    }
   ],
   "source": [
    "df_bechdel.pivot_table(index=\"rating\")\n",
    "df_bechdel.pivot_table(index=\"year\")"
   ]
  },
  {
   "attachments": {},
   "cell_type": "markdown",
   "metadata": {},
   "source": [
    "## Step 1.2: Specify the `aggfunc`:\n",
    "\n",
    "The second value we will specify is the `aggfunc`.  This is identical to the `agg` function in `groupby` and tells Python how to aggregate multiple values together.  By default (the results you saw in \"Step 1\") is that Python will take the `\"mean\"`.\n",
    "\n",
    "However, since each row of data is one movie, it makes the most sense to `\"count\"` each row of data.  Using your code above, add a second parameter to `df_bechdel.pivot_table` to include `aggfunc=\"count\"`:"
   ]
  },
  {
   "cell_type": "code",
   "execution_count": null,
   "metadata": {},
   "outputs": [],
   "source": []
  },
  {
   "attachments": {},
   "cell_type": "markdown",
   "metadata": {},
   "source": [
    "## Step 1.3: Specify the `columns`:\n",
    "\n",
    "The third value we will specify is `columns`.  This specifies what column from the original DataFrame should be presented in each column.  This `columns` value is combined together with the rows value (`index`) we specified in Part 1.\n",
    "\n",
    "To complete this step, create a pivot table where:\n",
    "\n",
    "- Each row (`index` parameter) in our pivot table is one year from the original DataFrame,\n",
    "- Each column (`columns` parameter) in our pivot table is one rating from the original DataFrame, **and**\n",
    "- The values are aggregated together by the `\"count\"` function (`aggfunc` parameter)\n",
    "\n",
    "Call this pivot table `df` and we'll check to make sure it looks good:"
   ]
  },
  {
   "cell_type": "code",
   "execution_count": null,
   "metadata": {},
   "outputs": [],
   "source": [
    "df = ...\n",
    "df"
   ]
  },
  {
   "cell_type": "code",
   "execution_count": null,
   "metadata": {},
   "outputs": [],
   "source": [
    "## == STEP 1.3 TEST CASES ==\n",
    "# - This read-only cell contains test cases for the microproject.\n",
    "# - If this cell runs without any error in the output, you PASSED all test cases!\n",
    "# - If this cell results in any errors, check you previous cells, make changes, and RE-RUN your code and then this cell.\n",
    "tada = \"\\N{PARTY POPPER}\"\n",
    "\n",
    "assert( len(df) == len(df_bechdel[\"year\"].unique()) ), \\\n",
    "  \"You should have one row for each year, but your `df` does not. Make sure your `index` parameter is correct.\"\n",
    "\n",
    "assert( len(df.columns) == (len(df_bechdel.columns) - 2) * 4 ), \\\n",
    "  \"You should have a 0,1,2,3 column for each variable. Make sure your `columns` parameter is correct. \"\n",
    "\n",
    "assert( df[\"id\", 0][2021] == len(df_bechdel[ (df_bechdel.year == 2021) & (df_bechdel.rating == 0) ]) ), \\\n",
    "  \"You have the incorrect number of movies with a 0 rating in 2021. Make sure your `aggfunc` parameter is correct.\"\n",
    "\n",
    "print(f\"{tada} All tests passed! {tada}\")\n"
   ]
  },
  {
   "attachments": {},
   "cell_type": "markdown",
   "metadata": {},
   "source": [
    "## Step 1.4: Specify the `values`\n",
    "\n",
    "In the result above, you have a summary for the number of movies rated `0`, `1`, `2`, and `3` for every year of data in the dataset, but it is repeated for every `id` record, every `imdbid`, and every `title`.\n",
    "\n",
    "The `values` parameter allows us to specify the values we want to keep.  Since the `\"count\"` of all three columns are the same (every row has a title, id, and imdbid), the `values=\"title\"` field allows us to choose to only look at data about `titles` and cleans up our pivot table.\n",
    "\n",
    "Copy your code above and extend it to only include data about the `values=\"title\"`:"
   ]
  },
  {
   "cell_type": "code",
   "execution_count": null,
   "metadata": {},
   "outputs": [],
   "source": [
    "df = ...\n",
    "df"
   ]
  },
  {
   "cell_type": "code",
   "execution_count": null,
   "metadata": {},
   "outputs": [],
   "source": [
    "## == STEP 1.4 TEST CASES ==\n",
    "# - This read-only cell contains test cases for the microproject.\n",
    "# - If this cell runs without any error in the output, you PASSED all test cases!\n",
    "# - If this cell results in any errors, check you previous cells, make changes, and RE-RUN your code and then this cell.\n",
    "tada = \"\\N{PARTY POPPER}\"\n",
    "\n",
    "assert( len(df) == len(df_bechdel[\"year\"].unique()) ), \\\n",
    "  \"You should have one row for each year, but your `df` does not. Make sure your `index` parameter is correct.\"\n",
    "\n",
    "assert( len(df.columns) == 4 ), \\\n",
    "  \"You should have a single 0,1,2,3 column. Make sure your `columns` parameter is correct. \"\n",
    "\n",
    "assert( df[3][2021] == len(df_bechdel[ (df_bechdel.year == 2021) & (df_bechdel.rating == 3) ]) ), \\\n",
    "  \"You have the incorrect number of movies with a 3 rating in 2021. Make sure your `aggfunc` parameter is correct.\"\n",
    "\n",
    "print(f\"{tada} All tests passed! {tada}\")"
   ]
  },
  {
   "attachments": {},
   "cell_type": "markdown",
   "metadata": {},
   "source": [
    "## Step 1.5: Specify the `fill_value`\n",
    "\n",
    "Finally, you may notice that there are no movies with a **3** rating in **1874**.  Since there is no data for that row/column combination, pandas leaves the value blank and reports a `NaN` or \"Not a Number\".\n",
    "\n",
    "The `fill_values` parameter allows us to give a default value when there is no data.  Since we know no data indicates that there were zero movies that that rating in our dataset, setting `fill_values=0` fills the missing data with zeros.\n",
    "\n",
    "Copy your code above and extend it to fill the values no data with `0`s:"
   ]
  },
  {
   "cell_type": "code",
   "execution_count": null,
   "metadata": {},
   "outputs": [],
   "source": [
    "df = ...\n",
    "df"
   ]
  },
  {
   "cell_type": "code",
   "execution_count": null,
   "metadata": {},
   "outputs": [],
   "source": [
    "## == STEP 1.5 TEST CASES ==\n",
    "# - This read-only cell contains test cases for the microproject.\n",
    "# - If this cell runs without any error in the output, you PASSED all test cases!\n",
    "# - If this cell results in any errors, check you previous cells, make changes, and RE-RUN your code and then this cell.\n",
    "tada = \"\\N{PARTY POPPER}\"\n",
    "\n",
    "assert( len(df) == len(df_bechdel[\"year\"].unique()) ), \\\n",
    "  \"You should have one row for each year, but your `df` does not. Make sure your `index` parameter is correct.\"\n",
    "\n",
    "assert( len(df.columns) == 4 ), \\\n",
    "  \"You should have a single 0,1,2,3 column. Make sure your `columns` parameter is correct. \"\n",
    "\n",
    "assert( df[3][2021] == len(df_bechdel[ (df_bechdel.year == 2021) & (df_bechdel.rating == 3) ]) ), \\\n",
    "  \"You have the incorrect number of movies with a 3 rating in 2021. Make sure your `aggfunc` parameter is correct.\"\n",
    "\n",
    "assert( len(df.dropna()) == len(df) ), \\\n",
    "  \"You have some NaN values remaining. Make sure your `fill_value` parameter is correct.\"\n",
    "\n",
    "print(f\"{tada} All tests passed! {tada}\")\n"
   ]
  },
  {
   "attachments": {},
   "cell_type": "markdown",
   "metadata": {},
   "source": [
    "<hr style=\"color: #DD3403;\">"
   ]
  },
  {
   "attachments": {},
   "cell_type": "markdown",
   "metadata": {},
   "source": [
    "## Part 2: Visual Analysis of the Data\n",
    "\n",
    "First, let's look at the overall analysis of summary you created!  Use `df.plot.line()` to create a line chart of your pivot table:"
   ]
  },
  {
   "cell_type": "code",
   "execution_count": null,
   "metadata": {},
   "outputs": [],
   "source": [
    "..."
   ]
  },
  {
   "attachments": {},
   "cell_type": "markdown",
   "metadata": {},
   "source": [
    "### Part 2.1: Create a Percentage Graph\n",
    "\n",
    "In the graph above, you can see that the **total number of movies** in the dataset has increased dramatically from the 1880s until today.  However, it is hard to determine if the percentage of movies with a higher rating has increased.\n",
    "\n",
    "To create a graph of the proportion of movies at reach ranking, add at least four additional columns to your DataFrame `df`:\n",
    "\n",
    "- `\"%0\"`, that contains the percentage of movies with a `0` ranking in a given year,\n",
    "- `\"%1\"`, that contains the percentage of movies with a `1` ranking in a given year,\n",
    "- `\"%2\"`, that contains the percentage of movies with a `2` ranking in a given year,\n",
    "- `\"%3\"`, that contains the percentage of movies with a `3` ranking in a given year,\n",
    "- You may find adding a `\"Total\"` column helpful."
   ]
  },
  {
   "cell_type": "code",
   "execution_count": null,
   "metadata": {},
   "outputs": [],
   "source": [
    "df[\"%0\"] = ...\n",
    "df[\"%1\"] = ...\n",
    "df[\"%2\"] = ...\n",
    "df[\"%3\"] = ...\n",
    "df"
   ]
  },
  {
   "cell_type": "code",
   "execution_count": null,
   "metadata": {},
   "outputs": [],
   "source": [
    "## == PUZZLE 2.1 TEST CASES ==\n",
    "# - This read-only cell contains test cases for the microproject.\n",
    "# - If this cell runs without any error in the output, you PASSED all test cases!\n",
    "# - If this cell results in any errors, check you previous cells, make changes, and RE-RUN your code and then this cell.\n",
    "tada = \"\\N{PARTY POPPER}\"\n",
    "\n",
    "assert( \"%0\" in df.columns ), \"Make sure you have a \\\"%0\\\" column.\"\n",
    "assert( \"%1\" in df.columns ), \"Make sure you have a \\\"%1\\\" column.\"\n",
    "assert( \"%2\" in df.columns ), \"Make sure you have a \\\"%2\\\" column.\"\n",
    "assert( \"%3\" in df.columns ), \"Make sure you have a \\\"%3\\\" column.\"\n",
    "\n",
    "import math\n",
    "assert( math.isclose(\n",
    "        df.loc[2020][\"%0\"],\n",
    "        len(df_bechdel[ (df_bechdel.year == 2020) & (df_bechdel.rating == 0) ]) / len(df_bechdel[ (df_bechdel.year == 2020) ])\n",
    "      )), \"Your calculation of %0 is incorrect.\"\n",
    "\n",
    "assert( math.isclose(\n",
    "        df.loc[2019][\"%1\"],\n",
    "        len(df_bechdel[ (df_bechdel.year == 2019) & (df_bechdel.rating == 1) ]) / len(df_bechdel[ (df_bechdel.year == 2019) ])\n",
    "      )), \"Your calculation of %1 is incorrect.\"\n",
    "\n",
    "assert( math.isclose(\n",
    "        df.loc[2018][\"%2\"],\n",
    "        len(df_bechdel[ (df_bechdel.year == 2018) & (df_bechdel.rating == 2) ]) / len(df_bechdel[ (df_bechdel.year == 2018) ])\n",
    "      )), \"Your calculation of %2 is incorrect.\"\n",
    "\n",
    "assert( math.isclose(\n",
    "        df.loc[2017][\"%3\"],\n",
    "        len(df_bechdel[ (df_bechdel.year == 2017) & (df_bechdel.rating == 3) ]) / len(df_bechdel[ (df_bechdel.year == 2017) ])\n",
    "      )), \"Your calculation of %3 is incorrect.\"\n",
    "\n",
    "print(f\"{tada} All tests passed! {tada}\")\n"
   ]
  },
  {
   "attachments": {},
   "cell_type": "markdown",
   "metadata": {},
   "source": [
    "### Part 2.2: Finding the Percentage of Movies /Year with Each Rating:"
   ]
  },
  {
   "attachments": {},
   "cell_type": "markdown",
   "metadata": {},
   "source": [
    "To visualize only the percentage columns, create a new `df_pct` that contains only the `%0`, `%1`, `%2`, and `%3` columns:"
   ]
  },
  {
   "cell_type": "code",
   "execution_count": null,
   "metadata": {},
   "outputs": [],
   "source": [
    "df_pct = ...\n",
    "df_pct"
   ]
  },
  {
   "cell_type": "code",
   "execution_count": null,
   "metadata": {},
   "outputs": [],
   "source": [
    "## == PUZZLE 2.2 TEST CASES ==\n",
    "# - This read-only cell contains test cases for the microproject.\n",
    "# - If this cell runs without any error in the output, you PASSED all test cases!\n",
    "# - If this cell results in any errors, check you previous cells, make changes, and RE-RUN your code and then this cell.\n",
    "tada = \"\\N{PARTY POPPER}\"\n",
    "\n",
    "assert( \"df_pct\" in vars() ), \"Make sure you have defined the DataFrame `df_pct`.\"\n",
    "assert( \"%0\" in df_pct.columns ), \"Make sure you have a \\\"%0\\\" column.\"\n",
    "assert( \"%1\" in df_pct.columns ), \"Make sure you have a \\\"%1\\\" column.\"\n",
    "assert( \"%2\" in df_pct.columns ), \"Make sure you have a \\\"%2\\\" column.\"\n",
    "assert( \"%3\" in df_pct.columns ), \"Make sure you have a \\\"%3\\\" column.\"\n",
    "assert( len(df_pct.columns) == 4 ), \"Make sure you only have the percentage columns in `df_pct`.\"\n",
    "\n",
    "print(f\"{tada} All tests passed! {tada}\")"
   ]
  },
  {
   "attachments": {},
   "cell_type": "markdown",
   "metadata": {},
   "source": [
    "### Part 2.3: Visualizing the Percentage of Movies /Year with Each Rating:"
   ]
  },
  {
   "attachments": {},
   "cell_type": "markdown",
   "metadata": {},
   "source": [
    "Since `df_pct` has rows that always add up to `1`, this data is **PERFECT** for a stacked area graph.  Using `df.plot.area()`, create a stacked area visualization to view the growth of the percentage of each movie's rating:"
   ]
  },
  {
   "cell_type": "code",
   "execution_count": null,
   "metadata": {},
   "outputs": [],
   "source": [
    "..."
   ]
  },
  {
   "attachments": {},
   "cell_type": "markdown",
   "metadata": {},
   "source": [
    "<hr style=\"color: #DD3403;\">"
   ]
  },
  {
   "attachments": {},
   "cell_type": "markdown",
   "metadata": {},
   "source": [
    "## Submission\n",
    "\n",
    "You're almost done!  All you need to do is to commit your lab to GitHub and run the GitHub Actions Grader:\n",
    "\n",
    "1.  ⚠️ **Make certain to save your work.** ⚠️ To do this, go to **File => Save All**\n",
    "\n",
    "2.  After you have saved, exit this notebook and follow the instructions to commit and grade this MicroProject!\n"
   ]
  }
 ],
 "metadata": {
  "kernelspec": {
   "display_name": "Python 3",
   "language": "python",
   "name": "python3"
  },
  "language_info": {
   "codemirror_mode": {
    "name": "ipython",
    "version": 3
   },
   "file_extension": ".py",
   "mimetype": "text/x-python",
   "name": "python",
   "nbconvert_exporter": "python",
   "pygments_lexer": "ipython3",
   "version": "3.9.13"
  },
  "orig_nbformat": 4,
  "vscode": {
   "interpreter": {
    "hash": "369f2c481f4da34e4445cda3fffd2e751bd1c4d706f27375911949ba6bb62e1c"
   }
  }
 },
 "nbformat": 4,
 "nbformat_minor": 2
}
